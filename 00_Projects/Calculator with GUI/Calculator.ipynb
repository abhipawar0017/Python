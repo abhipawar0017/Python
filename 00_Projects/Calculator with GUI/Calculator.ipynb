{
 "cells": [
  {
   "cell_type": "markdown",
   "id": "cb1bbf92",
   "metadata": {},
   "source": [
    "# Calculator\n",
    "- Title\n",
    "- max, min & close button\n",
    "- #menu bar\n",
    "- #history\n",
    "- display\n",
    "- clear button\n",
    "- #sq root advance signs\n",
    "- 0-9 numbers (same light shade, black)\n",
    "- basic arithmetic operator (diff dark color, black)\n",
    "- equal to button (light blue)\n",
    "- decimal point"
   ]
  },
  {
   "cell_type": "markdown",
   "id": "7671b233",
   "metadata": {},
   "source": [
    "# Front-end"
   ]
  },
  {
   "cell_type": "code",
   "execution_count": 3,
   "id": "6c78df93",
   "metadata": {},
   "outputs": [],
   "source": [
    "import tkinter as tk"
   ]
  },
  {
   "cell_type": "code",
   "execution_count": 36,
   "id": "5006cc5b",
   "metadata": {},
   "outputs": [],
   "source": [
    "app = tk.Tk()\n",
    "\n",
    "# to decide the dimensions of calc\n",
    "app.geometry('237x293')\n",
    "# title of app\n",
    "app.title('Calculator')\n",
    "\n",
    "# display the result\n",
    "display = tk.Text(app,height=2,width=13,fg='white',bg='#303030',font=('Arial',24,'bold'))\n",
    "display.grid(row=1,columnspan=4)\n",
    "\n",
    "#buttons 0-9\n",
    "btn_1 = tk.Button(app,text='1',width=4,fg='white',bg='#505050',font=('Arial',14),command= lambda:click(1))\n",
    "btn_1.grid(row=5,column=0,padx=0,pady=2)\n",
    "\n",
    "btn_2 = tk.Button(app,text='2',width=4,fg='white',bg='#505050',font=('Arial',14),command= lambda:click(2))\n",
    "btn_2.grid(row=5,column=1,padx=0,pady=2)\n",
    "\n",
    "btn_3 = tk.Button(app,text='3',width=4,fg='white',bg='#505050',font=('Arial',14),command= lambda:click(3))\n",
    "btn_3.grid(row=5,column=2,padx=0,pady=2)\n",
    "\n",
    "btn_4 = tk.Button(app,text='4',width=4,fg='white',bg='#505050',font=('Arial',14),command= lambda:click(4))\n",
    "btn_4.grid(row=4,column=0,padx=0,pady=2)\n",
    "\n",
    "btn_5 = tk.Button(app,text='5',width=4,fg='white',bg='#505050',font=('Arial',14),command= lambda:click(5))\n",
    "btn_5.grid(row=4,column=1,padx=0,pady=2)\n",
    "\n",
    "btn_6 = tk.Button(app,text='6',width=4,fg='white',bg='#505050',font=('Arial',14),command= lambda:click(6))\n",
    "btn_6.grid(row=4,column=2,padx=0,pady=2)\n",
    "\n",
    "btn_7 = tk.Button(app,text='7',width=4,fg='white',bg='#505050',font=('Arial',14),command= lambda:click(7))\n",
    "btn_7.grid(row=3,column=0,padx=0,pady=2)\n",
    "\n",
    "btn_8 = tk.Button(app,text='8',width=4,fg='white',bg='#505050',font=('Arial',14),command= lambda:click(8))\n",
    "btn_8.grid(row=3,column=1,padx=0,pady=2)\n",
    "\n",
    "btn_9 = tk.Button(app,text='9',width=4,fg='white',bg='#505050',font=('Arial',14),command= lambda:click(9))\n",
    "btn_9.grid(row=3,column=2,padx=0,pady=2)\n",
    "\n",
    "btn_0 = tk.Button(app,text='0',width=4,fg='white',bg='#505050',font=('Arial',14),command= lambda:click(0))\n",
    "btn_0.grid(row=6,column=1,padx=0,pady=2)\n",
    "\n",
    "btn_dev = tk.Button(app,text='/',width=4,fg='white',bg='#505050',font=('Arial',14),command= lambda:click('/'))\n",
    "btn_dev.grid(row=6,column=2,padx=0,pady=2)\n",
    "\n",
    "btn_mul = tk.Button(app,text='x',width=4,fg='white',bg='#505050',font=('Arial',14),command= lambda:click('*'))\n",
    "btn_mul.grid(row=3,column=3,padx=0,pady=2)\n",
    "\n",
    "btn_sub = tk.Button(app,text='-',width=4,fg='white',bg='#505050',font=('Arial',14),command= lambda:click('-'))\n",
    "btn_sub.grid(row=4,column=3,padx=0,pady=2)\n",
    "\n",
    "btn_add = tk.Button(app,text='+',width=4,fg='white',bg='#505050',font=('Arial',14),command= lambda:click('+'))\n",
    "btn_add.grid(row=5,column=3,padx=0,pady=2)\n",
    "\n",
    "# Decimal point\n",
    "btn_dec = tk.Button(app,text='.',width=4,fg='white',bg='#505050',font=('Arial',14),command= lambda:click('.'))\n",
    "btn_dec.grid(row=6,column=0,padx=0,pady=2)\n",
    "\n",
    "# CLear button\n",
    "btn_cl = tk.Button(app,text='C',width=4,fg='white',bg='#505050',font=('Arial',14),command = clear)\n",
    "btn_cl.grid(row=2,column=2,padx=0,pady=2)\n",
    "\n",
    "btn_del = tk.Button(app,text='⌫',width=4,fg='white',bg='#505050',font=('Arial',14),command = dell)\n",
    "btn_del.grid(row=2,column=3,padx=0,pady=2)\n",
    "\n",
    "btn_ce = tk.Button(app,text='CE',width=4,fg='white',bg='#505050',font=('Arial',14),command = clear)\n",
    "btn_ce.grid(row=2,column=1,padx=0,pady=2)\n",
    "\n",
    "btn_mod = tk.Button(app,text='%',width=4,fg='white',bg='#505050',font=('Arial',14),command= lambda:click('%'))\n",
    "btn_mod.grid(row=2,column=0,padx=0,pady=2)\n",
    "\n",
    "# Equal to button\n",
    "btn_eq = tk.Button(app,text='=',width=4,fg='black',bg='#00FFFF',font=('Arial',14),command= result )\n",
    "btn_eq.grid(row=6,column=3,padx=0,pady=2)\n",
    "\n",
    "app.mainloop()"
   ]
  },
  {
   "cell_type": "markdown",
   "id": "f8506ea3",
   "metadata": {},
   "source": [
    "# Back-end\n",
    "- "
   ]
  },
  {
   "cell_type": "code",
   "execution_count": 5,
   "id": "4aaf3ebf",
   "metadata": {},
   "outputs": [],
   "source": [
    "# For clicking the button\n",
    "\n",
    "calculation = ''\n",
    "def click(symbol):\n",
    "    global calculation\n",
    "    calculation += str(symbol)\n",
    "    display.delete(1.0,'end')\n",
    "    display.insert(1.0,calculation)"
   ]
  },
  {
   "cell_type": "code",
   "execution_count": 32,
   "id": "4fbb3db1",
   "metadata": {},
   "outputs": [],
   "source": [
    "# Calculation of input\n",
    "\n",
    "def result():\n",
    "    try:\n",
    "        global calculation\n",
    "        calculation = str(eval(calculation))\n",
    "        display.delete(1.0,'end')\n",
    "        display.insert(1.0,calculation)\n",
    "    except:\n",
    "        #To hande the error part\n",
    "        clear()\n",
    "        display.insert(1.0,'Error')"
   ]
  },
  {
   "cell_type": "code",
   "execution_count": 7,
   "id": "236a22ea",
   "metadata": {},
   "outputs": [],
   "source": [
    "# Clear of display\n",
    "\n",
    "def clear():\n",
    "    global calculation\n",
    "    calculation = ''\n",
    "    display.delete(1.0,'end')"
   ]
  },
  {
   "cell_type": "code",
   "execution_count": 34,
   "id": "13ab0e07",
   "metadata": {},
   "outputs": [],
   "source": [
    "def dell():\n",
    "    global calculation\n",
    "    var = calculation[:-1]\n",
    "    display.delete(1.0,'end')\n",
    "    display.insert(1.0,var)"
   ]
  },
  {
   "cell_type": "code",
   "execution_count": null,
   "id": "cfd2df11",
   "metadata": {},
   "outputs": [],
   "source": []
  }
 ],
 "metadata": {
  "kernelspec": {
   "display_name": "Python 3 (ipykernel)",
   "language": "python",
   "name": "python3"
  },
  "language_info": {
   "codemirror_mode": {
    "name": "ipython",
    "version": 3
   },
   "file_extension": ".py",
   "mimetype": "text/x-python",
   "name": "python",
   "nbconvert_exporter": "python",
   "pygments_lexer": "ipython3",
   "version": "3.10.9"
  }
 },
 "nbformat": 4,
 "nbformat_minor": 5
}
