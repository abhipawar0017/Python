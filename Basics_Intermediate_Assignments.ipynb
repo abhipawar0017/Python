{
  "nbformat": 4,
  "nbformat_minor": 0,
  "metadata": {
    "colab": {
      "provenance": []
    },
    "kernelspec": {
      "name": "python3",
      "display_name": "Python 3"
    },
    "language_info": {
      "name": "python"
    }
  },
  "cells": [
    {
      "cell_type": "markdown",
      "source": [
        "# **Assignment no 1**\n",
        "\n",
        "**SET A**"
      ],
      "metadata": {
        "id": "_8MV74cbSRoH"
      }
    },
    {
      "cell_type": "markdown",
      "source": [
        "## Strings :\n",
        "#### Q1) Write a python program to check whether the string is Symmetrical or Palindrome"
      ],
      "metadata": {
        "id": "Vw07mhPKSfQW"
      }
    },
    {
      "cell_type": "code",
      "execution_count": null,
      "metadata": {
        "colab": {
          "base_uri": "https://localhost:8080/"
        },
        "id": "5S27FsPsSCp9",
        "outputId": "22712297-6874-47a0-d68c-397259820409"
      },
      "outputs": [
        {
          "output_type": "stream",
          "name": "stdout",
          "text": [
            "Enter a string :Nitin\n",
            "String after reversing : nitin\n",
            "string is palindrome !!\n"
          ]
        }
      ],
      "source": [
        "s1 = input(\"Enter a string :\")\n",
        "s2 = s1.lower()\n",
        "s3 = s2[-1::-1]\n",
        "print(\"String after reversing :\",s3)\n",
        "if(s3==s2):\n",
        "    print(\"string is palindrome !!\")\n",
        "else:\n",
        "    print(\"string is not palindrome\")"
      ]
    },
    {
      "cell_type": "markdown",
      "source": [
        "#### Q2) Write a Python program to reverse the words in a given string"
      ],
      "metadata": {
        "id": "MGCTzp6hSigZ"
      }
    },
    {
      "cell_type": "code",
      "source": [
        "s = input(\"Enter a string :\")\n",
        "print(\"String after reversing :\",s[-1::-1])"
      ],
      "metadata": {
        "colab": {
          "base_uri": "https://localhost:8080/"
        },
        "id": "mnJMSHHKSlNc",
        "outputId": "12b0a7cb-84b5-4ad4-a724-91cfe8407138"
      },
      "execution_count": null,
      "outputs": [
        {
          "output_type": "stream",
          "name": "stdout",
          "text": [
            "Enter a string :Abhishek\n",
            "String after reversing : kehsihbA\n"
          ]
        }
      ]
    },
    {
      "cell_type": "markdown",
      "source": [
        "#### Q3) Write a Python program to remove the i’th character from the string in different ways"
      ],
      "metadata": {
        "id": "gn9TdpaJSlvk"
      }
    },
    {
      "cell_type": "code",
      "source": [
        "s = input(\"Eneter a string: \")\n",
        "i = int(input(\"Enter i :\"))\n",
        "\n",
        "# we want to remove ith element as table not as a index\n",
        "# a = s[:i]\n",
        "# b = s[i+1:]\n",
        "\n",
        "a = s[:i-1]\n",
        "b = s[i:]\n",
        "c=a+b\n",
        "print(c)"
      ],
      "metadata": {
        "colab": {
          "base_uri": "https://localhost:8080/"
        },
        "id": "LwHe63-jSnuM",
        "outputId": "16dc9762-fb02-4afd-b2bf-ccf9aced9232"
      },
      "execution_count": null,
      "outputs": [
        {
          "output_type": "stream",
          "name": "stdout",
          "text": [
            "Eneter a string: Abhishek\n",
            "Enter i :7\n",
            "Abhishk\n"
          ]
        }
      ]
    },
    {
      "cell_type": "markdown",
      "source": [
        "## Functions :\n",
        "#### Q1) Write a python function to find the Max of three numbers"
      ],
      "metadata": {
        "id": "xuU0uFvHU-QI"
      }
    },
    {
      "cell_type": "code",
      "source": [
        "def max(a,b,c):\n",
        "  if a>b and a>c:\n",
        "    return a\n",
        "  elif b>a and b>c:\n",
        "    return b\n",
        "  else:\n",
        "    return c\n",
        "a =int(input(\"Enter a :\"))\n",
        "b =int(input(\"Enter b :\"))\n",
        "c =int(input(\"Enter c :\"))\n",
        "print(\"Maximum number is :\",max(a,b,c))"
      ],
      "metadata": {
        "colab": {
          "base_uri": "https://localhost:8080/"
        },
        "id": "e1jV0iNlS6Ea",
        "outputId": "efed6acc-a321-4804-9068-4aff20497f38"
      },
      "execution_count": null,
      "outputs": [
        {
          "output_type": "stream",
          "name": "stdout",
          "text": [
            "Enter a :7\n",
            "Enter b :5\n",
            "Enter c :4\n",
            "Maximum number is : 7\n"
          ]
        }
      ]
    },
    {
      "cell_type": "markdown",
      "source": [
        "#### Q2) Write a python function to Sum all the numbers in a list"
      ],
      "metadata": {
        "id": "5J-OZBKTVi4E"
      }
    },
    {
      "cell_type": "code",
      "source": [
        "lst = [2,5,7,77,23,45]\n",
        "sum = 0\n",
        "for i in lst:\n",
        "  sum = sum+i\n",
        "print(sum)"
      ],
      "metadata": {
        "colab": {
          "base_uri": "https://localhost:8080/"
        },
        "id": "6qOlRxCfVavc",
        "outputId": "d16ce398-f46d-46c8-a87d-58dece5c1a10"
      },
      "execution_count": null,
      "outputs": [
        {
          "output_type": "stream",
          "name": "stdout",
          "text": [
            "159\n"
          ]
        }
      ]
    },
    {
      "cell_type": "markdown",
      "source": [
        "#### Q3) Write a Python function to reverse the string"
      ],
      "metadata": {
        "id": "Oz8VdANhWGEB"
      }
    },
    {
      "cell_type": "code",
      "source": [
        "def rev(s):\n",
        "  return s[-1::-1]\n",
        "\n",
        "s = input(\"Enter the string:\")\n",
        "print('Reverse of a string:',rev(s))"
      ],
      "metadata": {
        "colab": {
          "base_uri": "https://localhost:8080/"
        },
        "id": "yWvRVwEXV5Nd",
        "outputId": "56e459a7-25fa-4d11-b5b4-b6c1e2d8f7f4"
      },
      "execution_count": null,
      "outputs": [
        {
          "output_type": "stream",
          "name": "stdout",
          "text": [
            "Enter the string:Abhishek\n",
            "Reverse of a string: kehsihbA\n"
          ]
        }
      ]
    },
    {
      "cell_type": "markdown",
      "source": [
        "**SET B**"
      ],
      "metadata": {
        "id": "ZQH6UO7iWpqm"
      }
    },
    {
      "cell_type": "markdown",
      "source": [
        "## Strings :\n",
        "\n",
        "#### Q1) Write a python program to print even length words in a string\n"
      ],
      "metadata": {
        "id": "FubPbyRpXJ5h"
      }
    },
    {
      "cell_type": "code",
      "source": [
        "s = input('Enter a string :')\n",
        "l = s.split()\n",
        "for i in l:\n",
        "  if len(i)%2==0:\n",
        "    print(i)"
      ],
      "metadata": {
        "colab": {
          "base_uri": "https://localhost:8080/"
        },
        "id": "3GGNE_fVW1dL",
        "outputId": "603f1ba1-7ae5-4cf6-b647-d75731e4fff4"
      },
      "execution_count": null,
      "outputs": [
        {
          "output_type": "stream",
          "name": "stdout",
          "text": [
            "Enter a string :Abhishek Rohodasa\n",
            "Abhishek\n",
            "Rohodasa\n",
            "['Abhishek', 'Rohodasa']\n"
          ]
        }
      ]
    },
    {
      "cell_type": "markdown",
      "source": [
        "#### Q2) Write a python program to accept the strings which contains all vowels"
      ],
      "metadata": {
        "id": "6JBFMr5La4Ij"
      }
    },
    {
      "cell_type": "code",
      "source": [
        "s = input('Enter a string :')\n",
        "v = set(\"aeiou\")\n",
        "s2= list({})\n",
        "for i in s:\n",
        "  if i in v:\n",
        "    s2.append(i)\n",
        "  else:\n",
        "    pass\n",
        "if len(s2)==len(s):\n",
        "  print('Accepts')\n",
        "else:\n",
        "  print('Rejected')"
      ],
      "metadata": {
        "colab": {
          "base_uri": "https://localhost:8080/"
        },
        "id": "bc3I9BywaVRS",
        "outputId": "c4b35388-78cb-472a-c201-0de69d1151f6"
      },
      "execution_count": null,
      "outputs": [
        {
          "output_type": "stream",
          "name": "stdout",
          "text": [
            "Enter a string :aaeeiioouu\n",
            "Accepts\n",
            "['a', 'a', 'e', 'e', 'i', 'i', 'o', 'o', 'u', 'u']\n"
          ]
        }
      ]
    },
    {
      "cell_type": "markdown",
      "source": [
        "#### Q3) Write a python program to Count the number of matching characters in a pair of String"
      ],
      "metadata": {
        "id": "YmtpnbnecXTC"
      }
    },
    {
      "cell_type": "code",
      "source": [
        "s1 = input('Enter a string :')\n",
        "s2= set(s1)\n",
        "s3 = input('Enter a string :')\n",
        "s4 = set(s3)\n",
        "c=0\n",
        "for i in s2:\n",
        "  if i in s4:\n",
        "    c=c+1\n",
        "print(c)"
      ],
      "metadata": {
        "colab": {
          "base_uri": "https://localhost:8080/"
        },
        "id": "kspEfsECeDD-",
        "outputId": "1c915eb8-865b-45f2-f147-88498011f60b"
      },
      "execution_count": null,
      "outputs": [
        {
          "output_type": "stream",
          "name": "stdout",
          "text": [
            "Enter a string :aabcdefk12\n",
            "Enter a string :b2acdefk1\n",
            "9\n"
          ]
        }
      ]
    },
    {
      "cell_type": "markdown",
      "source": [
        "## Functions :\n",
        "\n",
        "#### Q1) Write a Python function that takes a list and returns  a new list with unique elements of the first list."
      ],
      "metadata": {
        "id": "d-J0aQ8BMy3T"
      }
    },
    {
      "cell_type": "code",
      "source": [
        "def uniq(lst):\n",
        "  lst2 = lst.lower()\n",
        "  l = \"\"\n",
        "  for i in lst2:\n",
        "    if i not in l:\n",
        "      l=l+i\n",
        "  return l\n",
        "\n",
        "lst = input(\"Enter a list :\")\n",
        "print(uniq(lst))"
      ],
      "metadata": {
        "id": "MLs03tWCc2Ub",
        "colab": {
          "base_uri": "https://localhost:8080/"
        },
        "outputId": "8ec6e4e0-0a17-4d87-8231-03cb7747fa06"
      },
      "execution_count": null,
      "outputs": [
        {
          "output_type": "stream",
          "name": "stdout",
          "text": [
            "Enter a list :Abhishek\n",
            "abhisek\n"
          ]
        }
      ]
    },
    {
      "cell_type": "markdown",
      "source": [
        "#### Q2)  Write a python function that takes a number as a parameter and check the number is prime or not."
      ],
      "metadata": {
        "id": "xru6ZzD8PEr7"
      }
    },
    {
      "cell_type": "code",
      "source": [
        "def prime(n):\n",
        "  if n==1:\n",
        "    return False\n",
        "  for i in range(2,n):\n",
        "    if n%i==0:\n",
        "      return False\n",
        "  return True\n",
        "\n",
        "n = int(input(\"Enter a number :\"))\n",
        "print(prime(n))"
      ],
      "metadata": {
        "colab": {
          "base_uri": "https://localhost:8080/"
        },
        "id": "4gR2OvEwNYZW",
        "outputId": "5b5531f2-1b63-4cf5-c6d7-b56ab92bd62f"
      },
      "execution_count": null,
      "outputs": [
        {
          "output_type": "stream",
          "name": "stdout",
          "text": [
            "Enter a number :7\n",
            "True\n"
          ]
        }
      ]
    },
    {
      "cell_type": "code",
      "source": [
        "def pri(n):\n",
        "  for i in range(2,n):\n",
        "    if n==1:\n",
        "      print(\"Not a prime\")\n",
        "      break\n",
        "    elif n%i==0:\n",
        "      print('Not a prime')\n",
        "      break\n",
        "    else:\n",
        "      print('Prime')\n",
        "      break\n",
        "\n",
        "n= int(input(\"Enter a number :\"))\n",
        "print(pri(n))"
      ],
      "metadata": {
        "colab": {
          "base_uri": "https://localhost:8080/"
        },
        "id": "3B1tBQRMPqSt",
        "outputId": "4398a982-16d6-4fd3-f4e6-40ecfa57f923"
      },
      "execution_count": null,
      "outputs": [
        {
          "output_type": "stream",
          "name": "stdout",
          "text": [
            "Enter a number :7\n",
            "Prime\n",
            "None\n"
          ]
        }
      ]
    },
    {
      "cell_type": "markdown",
      "source": [
        "#### Q3) Write a python function to check whether a number is perfect or not.\n"
      ],
      "metadata": {
        "id": "Oi38wjeNWvkf"
      }
    },
    {
      "cell_type": "code",
      "source": [
        "def perfect(num):\n",
        "  sum = 0\n",
        "  for i in range(1,num):\n",
        "    if num%i==0:\n",
        "      sum+=i\n",
        "  if sum==num:\n",
        "    return True\n",
        "  else:\n",
        "    return False\n",
        "\n",
        "num = int(input(\"Enter a num :\"))\n",
        "print(perfect(num))"
      ],
      "metadata": {
        "colab": {
          "base_uri": "https://localhost:8080/"
        },
        "id": "LpENrHGkY1lJ",
        "outputId": "53232682-99b5-46d0-ec8f-af387f625e90"
      },
      "execution_count": null,
      "outputs": [
        {
          "output_type": "stream",
          "name": "stdout",
          "text": [
            "Enter a num :6\n",
            "True\n"
          ]
        }
      ]
    },
    {
      "cell_type": "markdown",
      "source": [
        "# **Assignment no 2**\n",
        "\n",
        "**SET A**\n",
        "\n"
      ],
      "metadata": {
        "id": "HYWrmBv4kxEz"
      }
    },
    {
      "cell_type": "markdown",
      "source": [
        "#### Q1) Python Program to Calculate the Area of a Triangle\n"
      ],
      "metadata": {
        "id": "5zbALgayk5yC"
      }
    },
    {
      "cell_type": "code",
      "source": [
        "b = int(input(\"Enter breadth:\"))\n",
        "h = int(input(\"Enter height:\"))\n",
        "A = 0.5*b*h\n",
        "print(\"Area of triangle :\",A)"
      ],
      "metadata": {
        "id": "Ic9HQ6cRcslf",
        "colab": {
          "base_uri": "https://localhost:8080/"
        },
        "outputId": "aba49f1a-f548-400c-a699-b7ee80574d8a"
      },
      "execution_count": null,
      "outputs": [
        {
          "output_type": "stream",
          "name": "stdout",
          "text": [
            "Enter breadth:4\n",
            "Enter height:7\n",
            "Area of triangle : 14.0\n"
          ]
        }
      ]
    },
    {
      "cell_type": "markdown",
      "source": [
        "#### Q2) Python Program to Swap Two Variables"
      ],
      "metadata": {
        "id": "4em5DtPKlZ2p"
      }
    },
    {
      "cell_type": "code",
      "source": [
        "a = int(input(\"Enter a:\"))\n",
        "b = int(input(\"Enter b:\"))\n",
        "temp=a\n",
        "a=b\n",
        "b=temp\n",
        "print(\"a:\",a,\"and b:\",b)"
      ],
      "metadata": {
        "id": "eQb8YGa-lT_L",
        "colab": {
          "base_uri": "https://localhost:8080/"
        },
        "outputId": "22fd1675-a5eb-4004-a86a-904746b3e2cf"
      },
      "execution_count": null,
      "outputs": [
        {
          "output_type": "stream",
          "name": "stdout",
          "text": [
            "Enter a:10\n",
            "Enter b:20\n",
            "a: 20 and b: 10\n"
          ]
        }
      ]
    },
    {
      "cell_type": "markdown",
      "source": [
        "#### Q3) Python Program to Generate a Random Number\n"
      ],
      "metadata": {
        "id": "f-JuaZb2l35Y"
      }
    },
    {
      "cell_type": "code",
      "source": [
        "import random\n",
        "\n",
        "print(random.randint(0,9))"
      ],
      "metadata": {
        "id": "zdWmvwdgl1yZ",
        "colab": {
          "base_uri": "https://localhost:8080/"
        },
        "outputId": "8f443fe8-9a22-421a-f97d-d4662edcf7ef"
      },
      "execution_count": null,
      "outputs": [
        {
          "output_type": "stream",
          "name": "stdout",
          "text": [
            "0\n"
          ]
        }
      ]
    },
    {
      "cell_type": "markdown",
      "source": [
        "**SET B**"
      ],
      "metadata": {
        "id": "rk_s-_9xnmnP"
      }
    },
    {
      "cell_type": "markdown",
      "source": [
        "#### Q1) 1. Write a Python Program to Check if a Number is Positive, Negative or Zero"
      ],
      "metadata": {
        "id": "yLydk5jdnsGp"
      }
    },
    {
      "cell_type": "code",
      "source": [
        "a = int(input(\"Enter the num:\"))\n",
        "if a==0:\n",
        "  print(\"It's a zero\")\n",
        "elif a>0:\n",
        "  print(\"This is positive number\")\n",
        "else:\n",
        "  print(\"This is negative number\")"
      ],
      "metadata": {
        "colab": {
          "base_uri": "https://localhost:8080/"
        },
        "id": "qqnS5VvJnAOI",
        "outputId": "2c67be74-171b-44ec-b8b7-18b72421982d"
      },
      "execution_count": null,
      "outputs": [
        {
          "output_type": "stream",
          "name": "stdout",
          "text": [
            "Enter the num:7\n",
            "This is positive number\n"
          ]
        }
      ]
    },
    {
      "cell_type": "markdown",
      "source": [
        "#### Q2) 2. Write a Python Program to Check if a Number is Odd or Even"
      ],
      "metadata": {
        "id": "RiCO2E4JoKdZ"
      }
    },
    {
      "cell_type": "code",
      "source": [
        "a = int(input(\"Enter the no:\"))\n",
        "if a%2==0:\n",
        "  print(\"This is even number\")\n",
        "elif a%2!=0:\n",
        "  print(\"This is even number\")\n",
        "else:\n",
        "  print(\"This is zero\")"
      ],
      "metadata": {
        "id": "TFSUp7qNoD4S",
        "colab": {
          "base_uri": "https://localhost:8080/"
        },
        "outputId": "6d104942-7029-4a63-d0f4-06719e9ce298"
      },
      "execution_count": null,
      "outputs": [
        {
          "output_type": "stream",
          "name": "stdout",
          "text": [
            "Enter the no:0\n",
            "This is even number\n"
          ]
        }
      ]
    },
    {
      "cell_type": "markdown",
      "source": [
        "#### Q3) 3. Write a Python Program to Check Prime Number"
      ],
      "metadata": {
        "id": "R5Ncal8S8COp"
      }
    },
    {
      "cell_type": "code",
      "source": [
        "a = int(input(\"Enter the no:\"))\n",
        "if a>1:\n",
        "  for i in range(2,a):\n",
        "    if a%i==0:\n",
        "      print(\"This is not a prime number\")\n",
        "      break\n",
        "  else:\n",
        "    print(\"This is a prime number\")\n",
        "else:\n",
        "  print(\"This is not a prime number\")"
      ],
      "metadata": {
        "colab": {
          "base_uri": "https://localhost:8080/"
        },
        "id": "WGnxrK3a7pA3",
        "outputId": "59426138-a41f-4574-e705-985c53775c69"
      },
      "execution_count": null,
      "outputs": [
        {
          "output_type": "stream",
          "name": "stdout",
          "text": [
            "Enter the no:6\n",
            "This is not a prime number\n"
          ]
        }
      ]
    },
    {
      "cell_type": "markdown",
      "source": [
        "#### Q4) Write a Python Program to Check Armstrong Number"
      ],
      "metadata": {
        "id": "LcE9mGX58qHj"
      }
    },
    {
      "cell_type": "code",
      "source": [
        "n = int(input(\"Enter the num:\"))\n",
        "sum=0\n",
        "temp = n\n",
        "while temp>0:\n",
        "  digit = temp%10\n",
        "  sum= sum + digit**3\n",
        "  temp//=10\n",
        "\n",
        "if n == sum:\n",
        "  print(n,\"is an Armstrong number\")\n",
        "else:\n",
        "  print(n,\"is not an Armstrong number\")"
      ],
      "metadata": {
        "colab": {
          "base_uri": "https://localhost:8080/"
        },
        "id": "cSTKgDC88l2q",
        "outputId": "159e25e7-ccdb-487d-81a5-b3d1d9f3f2a5"
      },
      "execution_count": null,
      "outputs": [
        {
          "output_type": "stream",
          "name": "stdout",
          "text": [
            "Enter the num:123\n",
            "123 is not an Armstrong number\n"
          ]
        }
      ]
    },
    {
      "cell_type": "markdown",
      "source": [
        "#### Q5) Write a Python Program to Find the Factorial of a Number"
      ],
      "metadata": {
        "id": "pgK7jo0m-UuZ"
      }
    },
    {
      "cell_type": "code",
      "source": [
        "n = int(input(\"Enter the num:\"))\n",
        "fact = 1\n",
        "if n<0:\n",
        "  print(\"Factorial does not exist\")\n",
        "elif n==0:\n",
        "  print(\"Factorial of 0 is 1\")\n",
        "else:\n",
        "  for i in range(1,n+1):\n",
        "    fact = fact*i\n",
        "print(fact,\"is the factorial\")"
      ],
      "metadata": {
        "colab": {
          "base_uri": "https://localhost:8080/"
        },
        "id": "7FDC6nZn-Lna",
        "outputId": "ddd389d1-d4e7-4174-8b77-a45849910f5d"
      },
      "execution_count": null,
      "outputs": [
        {
          "output_type": "stream",
          "name": "stdout",
          "text": [
            "Enter the num:5\n",
            "120 is the factorial\n"
          ]
        }
      ]
    },
    {
      "cell_type": "markdown",
      "source": [
        "# **Assignment no 3**\n"
      ],
      "metadata": {
        "id": "y1TLxYGw_EOJ"
      }
    },
    {
      "cell_type": "markdown",
      "source": [
        "#### Q1) Write a Python program to append items from a specified list."
      ],
      "metadata": {
        "id": "XVOa4xFMHeKw"
      }
    },
    {
      "cell_type": "code",
      "source": [
        "lst = ['abhi','abhi2','abhi3']\n",
        "print(lst)\n",
        "lst.append('abhi4')\n",
        "print(lst)"
      ],
      "metadata": {
        "id": "KiZ3EEjn-9Qx",
        "colab": {
          "base_uri": "https://localhost:8080/"
        },
        "outputId": "1cf4299e-5023-44ae-d690-48b805acbbcd"
      },
      "execution_count": null,
      "outputs": [
        {
          "output_type": "stream",
          "name": "stdout",
          "text": [
            "['abhi', 'abhi2', 'abhi3']\n",
            "['abhi', 'abhi2', 'abhi3', 'abhi4']\n"
          ]
        }
      ]
    },
    {
      "cell_type": "markdown",
      "source": [
        "#### Q2) Write a python program Check if a Substring is Present in a Given String"
      ],
      "metadata": {
        "id": "bSTZygPTI3sz"
      }
    },
    {
      "cell_type": "code",
      "source": [
        "lst = ['abhi','abhi2','abhi3']\n",
        "\n",
        "if 'abhi5' in lst:\n",
        "  print('Present')\n",
        "else:\n",
        "  print('Not present')"
      ],
      "metadata": {
        "colab": {
          "base_uri": "https://localhost:8080/"
        },
        "id": "Xsie2hSdIBHp",
        "outputId": "814bec58-d846-473e-9ed7-d15aa737573b"
      },
      "execution_count": null,
      "outputs": [
        {
          "output_type": "stream",
          "name": "stdout",
          "text": [
            "Not present\n"
          ]
        }
      ]
    },
    {
      "cell_type": "markdown",
      "source": [
        "#### Q3) Write a python program Words Frequency in String Shorthands"
      ],
      "metadata": {
        "id": "VrB5pT_cJMvc"
      }
    },
    {
      "cell_type": "code",
      "source": [
        "test = input(\"Enter the string:\")\n",
        "print(\"Original string is :\",str(test))\n",
        "res = {key: test.count(key) for key in test.split()}\n",
        "print(\"Frequency of words is:\",str(res))"
      ],
      "metadata": {
        "id": "RFvHmnEnJEhN",
        "colab": {
          "base_uri": "https://localhost:8080/"
        },
        "outputId": "37fae3e8-6739-48ec-961f-dba23c8605b6"
      },
      "execution_count": null,
      "outputs": [
        {
          "output_type": "stream",
          "name": "stdout",
          "text": [
            "Enter the string:abhi is abhi\n",
            "Original string is : abhi is abhi\n",
            "Frequency of words is: {'abhi': 2, 'is': 1}\n"
          ]
        }
      ]
    },
    {
      "cell_type": "markdown",
      "source": [
        "#### Q4) Write a python program Convert Snake case to Pascal case"
      ],
      "metadata": {
        "id": "oMNupSAIxnsc"
      }
    },
    {
      "cell_type": "code",
      "source": [
        "test = input(\"Enter the string:\")\n",
        "print(\"Original string is :\",str(test))\n",
        "res = test.replace('_',\" \").title().replace(\" \",\"\")\n",
        "print(\"The String after changing case : \" + str(res))"
      ],
      "metadata": {
        "colab": {
          "base_uri": "https://localhost:8080/"
        },
        "id": "0hmerFJUxIIx",
        "outputId": "bcbfff2e-4c77-4ae2-f946-6c6f9712a86e"
      },
      "execution_count": null,
      "outputs": [
        {
          "output_type": "stream",
          "name": "stdout",
          "text": [
            "Enter the string:ABhi_pawar\n",
            "Original string is : ABhi_pawar\n",
            "The String after changing case : AbhiPawar\n"
          ]
        }
      ]
    },
    {
      "cell_type": "markdown",
      "source": [
        "#### Q5) Write a Python function to calculate the factorial of a number (a non-negative integer). The function accepts the number as an argument."
      ],
      "metadata": {
        "id": "TzUdY9u4y0DL"
      }
    },
    {
      "cell_type": "code",
      "source": [
        "def fact(n):\n",
        "  if n==0:\n",
        "    return 1\n",
        "  else:\n",
        "    return n*fact(n-1)\n",
        "\n",
        "n = int(input(\"Enter the num:\"))\n",
        "print(fact(n))"
      ],
      "metadata": {
        "id": "lMit8r0qymZ_",
        "colab": {
          "base_uri": "https://localhost:8080/"
        },
        "outputId": "2dd53161-126e-411a-8e99-687af4611f8b"
      },
      "execution_count": null,
      "outputs": [
        {
          "output_type": "stream",
          "name": "stdout",
          "text": [
            "Enter the num:5\n",
            "120\n"
          ]
        }
      ]
    },
    {
      "cell_type": "markdown",
      "source": [
        "#### Q6) Write a Python function to check whether a number is in a given range."
      ],
      "metadata": {
        "id": "ncuSJQlnHkMI"
      }
    },
    {
      "cell_type": "code",
      "source": [
        "def ran(n):\n",
        "  if n in range(5,15):\n",
        "    print(\"Num is in range\")\n",
        "  else:\n",
        "    print(\"Num is outside the range\")\n",
        "\n",
        "n = int(input(\"Enter the num:\"))\n",
        "print(ran(n))"
      ],
      "metadata": {
        "colab": {
          "base_uri": "https://localhost:8080/"
        },
        "id": "129vNhCpFovH",
        "outputId": "2e0f3c5b-a25d-41ea-91c2-55c62168ac29"
      },
      "execution_count": null,
      "outputs": [
        {
          "output_type": "stream",
          "name": "stdout",
          "text": [
            "Enter the num:4\n",
            "Num is outside the range\n",
            "None\n"
          ]
        }
      ]
    },
    {
      "cell_type": "markdown",
      "source": [
        "#### Q7. Write a Python function that accepts a string and calculate the number of upper case letters and lower case letters."
      ],
      "metadata": {
        "id": "ufN23z5bIkei"
      }
    },
    {
      "cell_type": "code",
      "source": [
        "def test(s):\n",
        "  d = {\"UPPER_CASE\":0, \"LOWER_CASE\":0}\n",
        "  for c in s:\n",
        "    if c.islower():\n",
        "      d[\"LOWER_CASE\"]+=1\n",
        "    elif c.isupper():\n",
        "      d[\"UPPER_CASE\"]+=1\n",
        "    else:\n",
        "      pass\n",
        "\n",
        "  print (\"Original String : \", s)\n",
        "  print (\"No. of Upper case characters : \", d[\"UPPER_CASE\"])\n",
        "  print (\"No. of Lower case Characters : \", d[\"LOWER_CASE\"])\n",
        "\n",
        "test(\"AbhiS\")"
      ],
      "metadata": {
        "colab": {
          "base_uri": "https://localhost:8080/"
        },
        "id": "udVgSygjIfRg",
        "outputId": "82485c6d-ea36-4b08-be6d-15b67ad07375"
      },
      "execution_count": null,
      "outputs": [
        {
          "output_type": "stream",
          "name": "stdout",
          "text": [
            "Original String :  AbhiS\n",
            "No. of Upper case characters :  2\n",
            "No. of Lower case Characters :  3\n"
          ]
        }
      ]
    },
    {
      "cell_type": "markdown",
      "source": [
        "#### Q8) Write a Python program to detect the number of local variables declared in a function."
      ],
      "metadata": {
        "id": "4j6gsBg5dBVr"
      }
    },
    {
      "cell_type": "code",
      "source": [
        "def fun():\n",
        "  x=4\n",
        "  y=7\n",
        "  s = \"Abhi\"\n",
        "  print(s)\n",
        "print(\"The number of variables are:\",fun.__code__.co_nlocals)"
      ],
      "metadata": {
        "id": "A02w507wJ8tX",
        "colab": {
          "base_uri": "https://localhost:8080/"
        },
        "outputId": "1eafdf31-fba1-44c9-9669-b46d1d07ec36"
      },
      "execution_count": null,
      "outputs": [
        {
          "output_type": "stream",
          "name": "stdout",
          "text": [
            "The number of variables are: 3\n"
          ]
        }
      ]
    },
    {
      "cell_type": "markdown",
      "source": [
        "#### Q8. Write a python program to Remove all duplicates from a given string in Python"
      ],
      "metadata": {
        "id": "NW1U_9COdzzo"
      }
    },
    {
      "cell_type": "code",
      "source": [
        "def duplicates_without_order(str1):\n",
        "  return \"\".join(set(str1))\n",
        "\n",
        "def duplicates_with_order(str1):\n",
        "  return \"\".join(sorted(set(str1), key=str1.index))\n",
        "\n",
        "str1 = \"Abhishek Pawar\"\n",
        "print(duplicates_without_order(str1))\n",
        "print(duplicates_with_order(str1))"
      ],
      "metadata": {
        "colab": {
          "base_uri": "https://localhost:8080/"
        },
        "id": "kd1p4vhadjf2",
        "outputId": "e2a2785c-c661-40f6-ce2f-1b610208f49a"
      },
      "execution_count": null,
      "outputs": [
        {
          "output_type": "stream",
          "name": "stdout",
          "text": [
            "Aiwesahk rbP\n",
            "Abhisek Pawr\n"
          ]
        }
      ]
    },
    {
      "cell_type": "markdown",
      "source": [
        "#### Q9. Write a Python function that checks whether a passed string is palindrome or not."
      ],
      "metadata": {
        "id": "J2wTWl0jfrN4"
      }
    },
    {
      "cell_type": "code",
      "source": [
        "def palindrome(n):\n",
        "  if n==n[::-1]:\n",
        "    print(\"Palindrome\")\n",
        "  else:\n",
        "    print(\"Not a palindrome\")\n",
        "\n",
        "n = input(\"Enter the string:\")\n",
        "palindrome(n)"
      ],
      "metadata": {
        "colab": {
          "base_uri": "https://localhost:8080/"
        },
        "id": "FlNjgvULeufq",
        "outputId": "f652bea4-025d-4a4c-9da7-55284344032e"
      },
      "execution_count": null,
      "outputs": [
        {
          "output_type": "stream",
          "name": "stdout",
          "text": [
            "Enter the string:121\n",
            "Palindrome\n"
          ]
        }
      ]
    },
    {
      "cell_type": "markdown",
      "source": [
        "#### Q10) Write a Python program that accepts a hyphen-separated sequence of words as input and prints the words in a hyphen-separated sequence after sorting them alphabetically."
      ],
      "metadata": {
        "id": "aLrky_cAhaSt"
      }
    },
    {
      "cell_type": "code",
      "source": [
        "items = [n for n in input().split('-')]\n",
        "\n",
        "items.sort()\n",
        "\n",
        "print('-'.join(items))"
      ],
      "metadata": {
        "id": "QHq05frqgABW",
        "colab": {
          "base_uri": "https://localhost:8080/"
        },
        "outputId": "3fcd2f94-16d8-473b-98d1-8bcc9c335fd4"
      },
      "execution_count": null,
      "outputs": [
        {
          "output_type": "stream",
          "name": "stdout",
          "text": [
            "red-black-white-blue\n",
            "black-blue-red-white\n"
          ]
        }
      ]
    },
    {
      "cell_type": "markdown",
      "source": [
        "# **Assignment no 4**\n",
        "\n",
        "**SET A**\n",
        "\n",
        "**List**\n"
      ],
      "metadata": {
        "id": "0Bulf8Mph_J3"
      }
    },
    {
      "cell_type": "markdown",
      "source": [
        "#### Q1) Write a Python program to sum all the items in a list."
      ],
      "metadata": {
        "id": "QfIP3PEuiLRV"
      }
    },
    {
      "cell_type": "code",
      "source": [
        "lst = [10,20,30,40]\n",
        "sum=0\n",
        "for i in lst:\n",
        "  sum= sum+i\n",
        "print(\"Sum :\",sum)"
      ],
      "metadata": {
        "colab": {
          "base_uri": "https://localhost:8080/"
        },
        "id": "A1XLHDhXh0Ah",
        "outputId": "c8ace975-2d8d-40ff-f0a5-ad34e50d88ff"
      },
      "execution_count": null,
      "outputs": [
        {
          "output_type": "stream",
          "name": "stdout",
          "text": [
            "Sum : 100\n"
          ]
        }
      ]
    },
    {
      "cell_type": "markdown",
      "source": [
        "#### Q2) Write a Python program to multiplies all the items in a list."
      ],
      "metadata": {
        "id": "-k_CiDi8idhm"
      }
    },
    {
      "cell_type": "code",
      "source": [
        "lst = [10,20]\n",
        "mul=1\n",
        "for i in lst:\n",
        "  mul= mul*i\n",
        "print(\"multiplication :\",mul)"
      ],
      "metadata": {
        "colab": {
          "base_uri": "https://localhost:8080/"
        },
        "id": "wDKw8Vt4iXOK",
        "outputId": "19e8cb37-8d54-4991-803b-7fc94a51fd31"
      },
      "execution_count": null,
      "outputs": [
        {
          "output_type": "stream",
          "name": "stdout",
          "text": [
            "multiplication : 200\n"
          ]
        }
      ]
    },
    {
      "cell_type": "markdown",
      "source": [
        "#### Q3) Write a Python program to get a list, sorted in increasing order by the last element in each tuple from a given list of non-empty tuples.\n"
      ],
      "metadata": {
        "id": "6geOWMA2ir6S"
      }
    },
    {
      "cell_type": "code",
      "source": [
        "def sort_by_last_element(tuples_list):\n",
        "\n",
        "    return sorted(tuples_list, key=lambda x:x[-1])\n",
        "\n",
        "example_list = [(2, 5), (1, 2), (4, 4), (2, 3), (2, 1)]\n",
        "sorted_list = sort_by_last_element(example_list)\n",
        "print(\"Sorted list:\", sorted_list)\n"
      ],
      "metadata": {
        "colab": {
          "base_uri": "https://localhost:8080/"
        },
        "id": "_nyFeOOeilku",
        "outputId": "b23e9a7b-28c5-4c1a-c865-4a446b904a0b"
      },
      "execution_count": null,
      "outputs": [
        {
          "output_type": "stream",
          "name": "stdout",
          "text": [
            "Sorted list: [(2, 1), (1, 2), (2, 3), (4, 4), (2, 5)]\n"
          ]
        }
      ]
    },
    {
      "cell_type": "markdown",
      "source": [
        "**Tuple**"
      ],
      "metadata": {
        "id": "QepcD4L2ySQc"
      }
    },
    {
      "cell_type": "markdown",
      "source": [
        "#### Q1) Write a Python program to create a tuple."
      ],
      "metadata": {
        "id": "aaBiAeAEyXpu"
      }
    },
    {
      "cell_type": "code",
      "source": [
        "n = (1,7,717)\n",
        "print(n)"
      ],
      "metadata": {
        "id": "6bm9d4_Bj3by",
        "colab": {
          "base_uri": "https://localhost:8080/"
        },
        "outputId": "b65373d8-3e7c-47c8-d2ec-9bb92b43bf82"
      },
      "execution_count": null,
      "outputs": [
        {
          "output_type": "stream",
          "name": "stdout",
          "text": [
            "(1, 7, 717)\n"
          ]
        }
      ]
    },
    {
      "cell_type": "markdown",
      "source": [
        "#### Q2) Write a Python program to create a tuple with different data types."
      ],
      "metadata": {
        "id": "NOZBKDN4zsW2"
      }
    },
    {
      "cell_type": "code",
      "source": [
        "n = ('abhi',False,1,4.6,717)\n",
        "print(n)"
      ],
      "metadata": {
        "colab": {
          "base_uri": "https://localhost:8080/"
        },
        "id": "G-qz9y8WzFTJ",
        "outputId": "8bd87e9c-0cfc-436f-b371-a9783f639ae3"
      },
      "execution_count": null,
      "outputs": [
        {
          "output_type": "stream",
          "name": "stdout",
          "text": [
            "('abhi', False, 1, 4.6, 717)\n"
          ]
        }
      ]
    },
    {
      "cell_type": "markdown",
      "source": [
        "#### Q3) Write a Python program to check whether an element exists within a tuple."
      ],
      "metadata": {
        "id": "Dy2SWou10dU7"
      }
    },
    {
      "cell_type": "code",
      "source": [
        "n = ('abhi',1,4.6,False,717)\n",
        "if 'abhi' in n:\n",
        "  print('Present')\n",
        "else:\n",
        "  print('Not present')"
      ],
      "metadata": {
        "id": "enCiOsV2z2aW",
        "colab": {
          "base_uri": "https://localhost:8080/"
        },
        "outputId": "2e1f33e0-ff03-485c-8598-16afa3b703fc"
      },
      "execution_count": null,
      "outputs": [
        {
          "output_type": "stream",
          "name": "stdout",
          "text": [
            "Present\n"
          ]
        }
      ]
    },
    {
      "cell_type": "markdown",
      "source": [
        "**Sets:**"
      ],
      "metadata": {
        "id": "S-Y1rqSe0lje"
      }
    },
    {
      "cell_type": "markdown",
      "source": [
        "#### Q1) Write a Python program to create a set."
      ],
      "metadata": {
        "id": "FePoCvKQ0q-T"
      }
    },
    {
      "cell_type": "code",
      "source": [
        "n = {'abhi',717,False,1,4.6,717}\n",
        "print(n)"
      ],
      "metadata": {
        "colab": {
          "base_uri": "https://localhost:8080/"
        },
        "id": "UXdXO0AA0j6j",
        "outputId": "0f060dc3-1758-4ff5-f2c2-ed68a5bf2769"
      },
      "execution_count": null,
      "outputs": [
        {
          "output_type": "stream",
          "name": "stdout",
          "text": [
            "{False, 1, 4.6, 'abhi', 717}\n"
          ]
        }
      ]
    },
    {
      "cell_type": "markdown",
      "source": [
        "#### Q2) Write a Python program to iterate over sets."
      ],
      "metadata": {
        "id": "TJkqi8OU1RhY"
      }
    },
    {
      "cell_type": "code",
      "source": [
        "n = {'abhi',717,False,1,4.6,717}\n",
        "for i in n:\n",
        "  print(i)"
      ],
      "metadata": {
        "id": "3Ah7r0Ke1Oyb",
        "colab": {
          "base_uri": "https://localhost:8080/"
        },
        "outputId": "38965d3e-baed-4153-95d7-f6ced13fdf64"
      },
      "execution_count": null,
      "outputs": [
        {
          "output_type": "stream",
          "name": "stdout",
          "text": [
            "False\n",
            "1\n",
            "4.6\n",
            "abhi\n",
            "717\n"
          ]
        }
      ]
    },
    {
      "cell_type": "markdown",
      "source": [
        "#### Q3) Write a Python program to create set difference."
      ],
      "metadata": {
        "id": "9YmH50sa2Odh"
      }
    },
    {
      "cell_type": "code",
      "source": [
        "n = {'abhi',717,False,1,4.6,717}\n",
        "m = {'Pawar',True,717,1}\n",
        "ans = n-m\n",
        "print(ans)"
      ],
      "metadata": {
        "colab": {
          "base_uri": "https://localhost:8080/"
        },
        "id": "feYpwMEu2IHs",
        "outputId": "81cff60f-0fbc-42fd-ccf3-e77551c7fbf7"
      },
      "execution_count": null,
      "outputs": [
        {
          "output_type": "stream",
          "name": "stdout",
          "text": [
            "{False, 'abhi', 4.6}\n"
          ]
        }
      ]
    },
    {
      "cell_type": "markdown",
      "source": [
        "**Dictionary**"
      ],
      "metadata": {
        "id": "qwRuSi0r2emF"
      }
    },
    {
      "cell_type": "markdown",
      "source": [
        "#### Q1) Write a Python script to sort (ascending and descending) a dictionary by value"
      ],
      "metadata": {
        "id": "FuG0bE_a2k_l"
      }
    },
    {
      "cell_type": "code",
      "source": [
        "d = {1: 22, 3: 42, 4: 32, 2: 12, 0: 20}\n",
        "print('Original dictionary : ',d)\n",
        "\n",
        "sorted_asc = sorted(d.items(), key=lambda x:x[1])\n",
        "print('Dictionary in ascending order by value : ',sorted_asc)\n",
        "\n",
        "sorted_des = sorted(d.items(), key=lambda x:x[1], reverse=True)\n",
        "print('Dictionary in ascending order by value : ',sorted_des)"
      ],
      "metadata": {
        "colab": {
          "base_uri": "https://localhost:8080/"
        },
        "id": "WS9CVybo2bD6",
        "outputId": "8421c3c6-5b95-4e90-e753-57f7c75e32ef"
      },
      "execution_count": null,
      "outputs": [
        {
          "output_type": "stream",
          "name": "stdout",
          "text": [
            "Original dictionary :  {1: 22, 3: 42, 4: 32, 2: 12, 0: 20}\n",
            "Dictionary in ascending order by value :  [(2, 12), (0, 20), (1, 22), (4, 32), (3, 42)]\n",
            "Dictionary in ascending order by value :  [(3, 42), (4, 32), (1, 22), (0, 20), (2, 12)]\n"
          ]
        }
      ]
    },
    {
      "cell_type": "markdown",
      "source": [
        "#### Q2) Write a Python script to add a key to a dictionary."
      ],
      "metadata": {
        "id": "2MCe0CA74sYT"
      }
    },
    {
      "cell_type": "code",
      "source": [
        "d = {1: 22, 3: 42, 4: 32, 2: 12, 0: 20}\n",
        "print('Original dictionary : ',d)\n",
        "\n",
        "d[5]=100\n",
        "print('Dictionary after adding a key : ',d)"
      ],
      "metadata": {
        "id": "-CIMyPv83CcI",
        "colab": {
          "base_uri": "https://localhost:8080/"
        },
        "outputId": "ed676192-81d0-4457-d2bf-4e79a0989a0a"
      },
      "execution_count": null,
      "outputs": [
        {
          "output_type": "stream",
          "name": "stdout",
          "text": [
            "Original dictionary :  {1: 22, 3: 42, 4: 32, 2: 12, 0: 20}\n",
            "Dictionary after adding a key :  {1: 22, 3: 42, 4: 32, 2: 12, 0: 20, 5: 100}\n"
          ]
        }
      ]
    },
    {
      "cell_type": "markdown",
      "source": [
        "#### Q3) Write a Python program to iterate over dictionaries using for loops."
      ],
      "metadata": {
        "id": "TJshcVSO5tDE"
      }
    },
    {
      "cell_type": "code",
      "source": [
        "dt = {'a': 'juice', 'b': 'grill', 'c': 'corn'}\n",
        "\n",
        "for key, value in dt.items():\n",
        "    print(key,\":\", value)"
      ],
      "metadata": {
        "id": "VkH3A5Vj5nfE",
        "colab": {
          "base_uri": "https://localhost:8080/"
        },
        "outputId": "160831d2-3294-452a-d235-cbd0c767cf0f"
      },
      "execution_count": null,
      "outputs": [
        {
          "output_type": "stream",
          "name": "stdout",
          "text": [
            "a : juice\n",
            "b : grill\n",
            "c : corn\n"
          ]
        }
      ]
    },
    {
      "cell_type": "markdown",
      "source": [
        "**SET B**\n",
        "\n",
        "**List :**"
      ],
      "metadata": {
        "id": "n9JpAMPz9AhR"
      }
    },
    {
      "cell_type": "markdown",
      "source": [
        "#### Q1. Write a Python program to remove duplicates from a list."
      ],
      "metadata": {
        "id": "1rkBZy-T9OMY"
      }
    },
    {
      "cell_type": "code",
      "source": [
        "def Remove(duplicate):\n",
        "    final_list = []\n",
        "    for  i in duplicates:\n",
        "      if i not in final_list:\n",
        "        final_list.append(i)\n",
        "    return final_list\n",
        "\n",
        "duplicates = [2, 4, 10, 20, 5, 2, 20, 4]\n",
        "print(Remove(duplicates))"
      ],
      "metadata": {
        "id": "xPO9U10p82tt",
        "colab": {
          "base_uri": "https://localhost:8080/"
        },
        "outputId": "78ef9032-a9e7-40f6-fff4-c4538cb04a8f"
      },
      "execution_count": null,
      "outputs": [
        {
          "output_type": "stream",
          "name": "stdout",
          "text": [
            "[2, 4, 10, 20, 5]\n"
          ]
        }
      ]
    },
    {
      "cell_type": "markdown",
      "source": [
        "#### Q2. Write a Python program to check a list is empty or not."
      ],
      "metadata": {
        "id": "M-mdFJEvBKV_"
      }
    },
    {
      "cell_type": "code",
      "source": [
        "a = []\n",
        "if len(a) == 0:\n",
        "    print(\"The list is empty\")\n",
        "else:\n",
        "\n",
        "    print(\"The list is not empty\")"
      ],
      "metadata": {
        "colab": {
          "base_uri": "https://localhost:8080/"
        },
        "id": "vrKnnoJzAqlJ",
        "outputId": "1f29cfd5-66a9-4848-9203-a47e05b18e3c"
      },
      "execution_count": null,
      "outputs": [
        {
          "output_type": "stream",
          "name": "stdout",
          "text": [
            "The list is empty\n"
          ]
        }
      ]
    },
    {
      "cell_type": "markdown",
      "source": [
        "**Tuples**"
      ],
      "metadata": {
        "id": "iVwMb9HkBojr"
      }
    },
    {
      "cell_type": "markdown",
      "source": [
        "#### Q1. Write a Python program to convert a list to a tuple."
      ],
      "metadata": {
        "id": "XvmCrp5XBspH"
      }
    },
    {
      "cell_type": "code",
      "source": [
        "lst = [2,4,6,7]\n",
        "print(lst)\n",
        "tup = tuple(lst)\n",
        "print(tup)"
      ],
      "metadata": {
        "colab": {
          "base_uri": "https://localhost:8080/"
        },
        "id": "E4ihkWlYBWIq",
        "outputId": "5258fa5c-5d79-4b3a-d32f-869c18f18ef2"
      },
      "execution_count": null,
      "outputs": [
        {
          "output_type": "stream",
          "name": "stdout",
          "text": [
            "[2, 4, 6, 7]\n",
            "(2, 4, 6, 7)\n"
          ]
        }
      ]
    },
    {
      "cell_type": "markdown",
      "source": [
        "#### Q2. Write a Python program to remove an item from a tuple"
      ],
      "metadata": {
        "id": "JzR2Sj84B1wC"
      }
    },
    {
      "cell_type": "code",
      "source": [
        "tup = [2,4,6,7,2,1]\n",
        "print(tup)\n",
        "tup.remove(2)\n",
        "print(tup)"
      ],
      "metadata": {
        "colab": {
          "base_uri": "https://localhost:8080/"
        },
        "id": "AiKyHlSzByhx",
        "outputId": "d741231e-dfbc-4609-c7c1-36d7d2819028"
      },
      "execution_count": null,
      "outputs": [
        {
          "output_type": "stream",
          "name": "stdout",
          "text": [
            "[2, 4, 6, 7, 2, 1]\n",
            "[4, 6, 7, 2, 1]\n"
          ]
        }
      ]
    },
    {
      "cell_type": "markdown",
      "source": [
        "#### Q3. Write a Python program to slice a tuple."
      ],
      "metadata": {
        "id": "eNDkhMQICAe_"
      }
    },
    {
      "cell_type": "code",
      "source": [
        "tup = [2,4,6,7,2,1]\n",
        "print(tup[0:3])"
      ],
      "metadata": {
        "colab": {
          "base_uri": "https://localhost:8080/"
        },
        "id": "7pDUqLsVB9Wg",
        "outputId": "98085ce2-2eb4-4bbd-8d09-60ed33070b5c"
      },
      "execution_count": null,
      "outputs": [
        {
          "output_type": "stream",
          "name": "stdout",
          "text": [
            "[2, 4, 6]\n"
          ]
        }
      ]
    },
    {
      "cell_type": "markdown",
      "source": [
        "#### Q4. Write a Python program to find the length of a tuple."
      ],
      "metadata": {
        "id": "udKw6VhCCId6"
      }
    },
    {
      "cell_type": "code",
      "source": [
        "tup = [2,4,6,7,2,1]\n",
        "print(len(tup))"
      ],
      "metadata": {
        "colab": {
          "base_uri": "https://localhost:8080/"
        },
        "id": "gF6CLma2CF9e",
        "outputId": "c1ff685d-68f9-45f1-84dd-89ba9603c448"
      },
      "execution_count": null,
      "outputs": [
        {
          "output_type": "stream",
          "name": "stdout",
          "text": [
            "6\n"
          ]
        }
      ]
    },
    {
      "cell_type": "markdown",
      "source": [
        "**SETS**"
      ],
      "metadata": {
        "id": "axBftnEcCRL0"
      }
    },
    {
      "cell_type": "markdown",
      "source": [
        "#### Q1. Write a Python program to check if a set is a subset of another set."
      ],
      "metadata": {
        "id": "ERm66hH9CVQx"
      }
    },
    {
      "cell_type": "code",
      "source": [
        "stt = {1,2,3,4,5}\n",
        "stt1 = {1,2,7}\n",
        "print(stt1.issubset(stt))"
      ],
      "metadata": {
        "colab": {
          "base_uri": "https://localhost:8080/"
        },
        "id": "PRrl5SM9COuy",
        "outputId": "504c07aa-9366-4446-b6ba-1daadf1caabb"
      },
      "execution_count": null,
      "outputs": [
        {
          "output_type": "stream",
          "name": "stdout",
          "text": [
            "False\n"
          ]
        }
      ]
    },
    {
      "cell_type": "markdown",
      "source": [
        "#### Q2. Write a Python program to find maximum and the minimum value in a set."
      ],
      "metadata": {
        "id": "umeECCnVCjlp"
      }
    },
    {
      "cell_type": "code",
      "source": [
        "sett = {12,3,45,6,2,7,17}\n",
        "print(max(sett))\n",
        "print(min(sett))"
      ],
      "metadata": {
        "colab": {
          "base_uri": "https://localhost:8080/"
        },
        "id": "Vh7x8UYyCesN",
        "outputId": "0f7293ea-f587-4b3a-8597-2d48655668b1"
      },
      "execution_count": null,
      "outputs": [
        {
          "output_type": "stream",
          "name": "stdout",
          "text": [
            "45\n",
            "2\n"
          ]
        }
      ]
    },
    {
      "cell_type": "markdown",
      "source": [
        "#### Q3. Write a Python program to find the length of a set."
      ],
      "metadata": {
        "id": "9mw3HP2kCtsR"
      }
    },
    {
      "cell_type": "code",
      "source": [
        "sett = {2,4,5,62,5,5,2,7}\n",
        "print(len(sett))"
      ],
      "metadata": {
        "colab": {
          "base_uri": "https://localhost:8080/"
        },
        "id": "CyAPUVVyCqU7",
        "outputId": "5a2235f4-8fe5-4e5f-ce4f-dfe24463c64d"
      },
      "execution_count": null,
      "outputs": [
        {
          "output_type": "stream",
          "name": "stdout",
          "text": [
            "5\n"
          ]
        }
      ]
    },
    {
      "cell_type": "markdown",
      "source": [
        "**Dictionary**"
      ],
      "metadata": {
        "id": "jvNDXezTC13Y"
      }
    },
    {
      "cell_type": "markdown",
      "source": [
        "#### Q1. Write a Python script to generate and print a dictionary that contains a number (between 1 and n) in the form (x, x*x).\n"
      ],
      "metadata": {
        "id": "UppdPpM-C57X"
      }
    },
    {
      "cell_type": "code",
      "source": [
        "def dict1(n):\n",
        "  result = {}\n",
        "  for i in range(1,n+1):\n",
        "    result"
      ],
      "metadata": {
        "colab": {
          "base_uri": "https://localhost:8080/"
        },
        "id": "gW6rDLI_Cz0z",
        "outputId": "57ed6421-649f-4357-fb6d-e77356c0bb9c"
      },
      "execution_count": null,
      "outputs": [
        {
          "output_type": "execute_result",
          "data": {
            "text/plain": [
              "{1: 1, 2: 4, 3: 9, 4: 16, 5: 25, 6: 36, 7: 49, 8: 64, 9: 81, 10: 100}"
            ]
          },
          "metadata": {},
          "execution_count": 22
        }
      ]
    },
    {
      "cell_type": "markdown",
      "source": [
        "#### Q2. Write a Python script to merge two Python dictionaries."
      ],
      "metadata": {
        "id": "U54Bns6yGBZB"
      }
    },
    {
      "cell_type": "code",
      "source": [
        "dict1 = {'a': 100, 'b': 200}\n",
        "dict2 = {'x': 300, 'y': 200}\n",
        "dict3 = dict1.copy()\n",
        "dict3.update(dict2)\n",
        "print(dict3)"
      ],
      "metadata": {
        "id": "kev5vDQJDNEF",
        "colab": {
          "base_uri": "https://localhost:8080/"
        },
        "outputId": "0b952225-410d-4c96-b2e9-6b0da8a44f09"
      },
      "execution_count": null,
      "outputs": [
        {
          "output_type": "stream",
          "name": "stdout",
          "text": [
            "{'a': 100, 'b': 200, 'x': 300, 'y': 200}\n"
          ]
        }
      ]
    },
    {
      "cell_type": "markdown",
      "source": [
        "#### Q3. Write a Python program to get a dictionary from an object's fields."
      ],
      "metadata": {
        "id": "DJ-5pI9aIVFR"
      }
    },
    {
      "cell_type": "code",
      "source": [
        "class Person:\n",
        "    def __init__(self, name, age):\n",
        "        self.name = name\n",
        "        self.age = age\n",
        "\n",
        "person = Person('Abhi', 22)\n",
        "print(person.__dict__)"
      ],
      "metadata": {
        "colab": {
          "base_uri": "https://localhost:8080/"
        },
        "id": "_WcMiND5GZez",
        "outputId": "c7196b1c-5fd2-4e44-9cf3-0b26808fbfe0"
      },
      "execution_count": null,
      "outputs": [
        {
          "output_type": "stream",
          "name": "stdout",
          "text": [
            "{'name': 'Abhi', 'age': 22}\n"
          ]
        }
      ]
    },
    {
      "cell_type": "code",
      "source": [],
      "metadata": {
        "id": "h94cxVD7NqF1"
      },
      "execution_count": null,
      "outputs": []
    }
  ]
}